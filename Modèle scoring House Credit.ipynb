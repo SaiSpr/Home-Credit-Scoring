{
 "cells": [
  {
   "cell_type": "code",
   "execution_count": null,
   "metadata": {},
   "outputs": [],
   "source": [
    "import pandas as pd\n",
    "import numpy as np\n",
    "import re\n",
    "from collections import Counter\n",
    "\n",
    "import matplotlib.pyplot as plt\n",
    "import seaborn as sns\n",
    "\n",
    "from imblearn.over_sampling import SMOTE\n",
    "from imblearn.under_sampling import NearMiss\n",
    "\n",
    "from sklearn.preprocessing import StandardScaler\n",
    "from sklearn.model_selection import train_test_split\n",
    "from sklearn.metrics import roc_curve, auc, confusion_matrix\n",
    "import xgboost as xgb\n",
    "from sklearn.metrics import accuracy_score, precision_score, recall_score, f1_score, matthews_corrcoef\n",
    "\n",
    "import shap\n",
    "\n",
    "import pickle"
   ]
  },
  {
   "cell_type": "markdown",
   "metadata": {},
   "source": [
    "## 1- IMPORT DATA"
   ]
  },
  {
   "cell_type": "code",
   "execution_count": null,
   "metadata": {},
   "outputs": [],
   "source": [
    "#On recupère le dataframe mergé (voir kernel Kaggle)\n",
    "df = pd.read_feather(\"data_feather.pkl\")"
   ]
  },
  {
   "cell_type": "markdown",
   "metadata": {},
   "source": [
    "## 2- TRAIN TEST SPLIT"
   ]
  },
  {
   "cell_type": "code",
   "execution_count": null,
   "metadata": {},
   "outputs": [],
   "source": [
    "# On recupère les données avec une target\n",
    "train = df[df[\"TARGET\"].notnull()]\n",
    "\n",
    "X_train = train.drop([\"TARGET\", \"SK_ID_CURR\"], axis = 1)\n",
    "y_train = train[\"TARGET\"]"
   ]
  },
  {
   "cell_type": "code",
   "execution_count": null,
   "metadata": {},
   "outputs": [],
   "source": [
    "#On recupère le nombre de valeurs nulles\n",
    "X_train_na = X_train.isna().sum()\n",
    "\n",
    "#On recupère les variables avec plus de 90% de valeur non nulles\n",
    "X_train_na_60 = list(X_train_na[(X_train_na*100/X_train.shape[0]) > 10].index)\n",
    "\n",
    "#On supprime les variables ayant plus de 60% de valeurs nulles\n",
    "X_train.drop(columns=X_train_na_60, inplace=True)"
   ]
  },
  {
   "cell_type": "code",
   "execution_count": null,
   "metadata": {},
   "outputs": [],
   "source": [
    "%%time\n",
    "\n",
    "#On remplace les valeurs nan restantes par 0\n",
    "X_train.replace({np.nan : 0}, inplace= True)"
   ]
  },
  {
   "cell_type": "code",
   "execution_count": null,
   "metadata": {
    "scrolled": true
   },
   "outputs": [],
   "source": [
    "%%time\n",
    "\n",
    "#On remplace les valeurs inf par la valeur max et les valeurs -inf par la valeur min\n",
    "for c in X_train.columns:\n",
    "    if X_train[c].isin([-np.inf, np.inf]).any():\n",
    "        print(c)\n",
    "        max_value = max(list(X_train[~(X_train[c].isin([-np.inf, np.inf, np.nan]))][c]))\n",
    "        min_value = min(list(X_train[~(X_train[c].isin([-np.inf, np.inf, np.nan]))][c]))\n",
    "    \n",
    "        X_train[c].replace({np.inf : max_value, -np.inf : min_value}, inplace= True)"
   ]
  },
  {
   "cell_type": "markdown",
   "metadata": {},
   "source": [
    "## 3- Gestion du déséquilibre des données (SMOTE)"
   ]
  },
  {
   "cell_type": "code",
   "execution_count": null,
   "metadata": {},
   "outputs": [],
   "source": [
    "#On affiche la distribution de nos données cible (on observe un déséquilibre)\n",
    "taux_0 = Counter(y_train)[0]*100/len(y_train)\n",
    "taux_1 = Counter(y_train)[1]*100/len(y_train)\n",
    "\n",
    "plt.bar([\"Taux de 0 (négatif) : \" + str(round(taux_0)) + \"%\"\n",
    "         ,\"Taux de 1 (positif) : \" + str(round(taux_1))+ \"%\"]\n",
    "        , [taux_0,taux_1])"
   ]
  },
  {
   "cell_type": "code",
   "execution_count": null,
   "metadata": {},
   "outputs": [],
   "source": [
    "#On affiche le nombre de clients par classe\n",
    "Counter(y_train)"
   ]
  },
  {
   "cell_type": "code",
   "execution_count": null,
   "metadata": {},
   "outputs": [],
   "source": [
    "%%time\n",
    "# Choix de la taille du nouveau dataset \n",
    "count_0 = Counter(y_train)[0]\n",
    "distribution_of_samples = {0:count_0 , 1:50000}\n",
    "\n",
    "# Sur-Echantillonnage en utilisant la méthode SMOTE\n",
    "smote = SMOTE(sampling_strategy = distribution_of_samples, random_state=666)\n",
    "X_under_tr, y_under_tr = smote.fit_resample(X_train, y_train)"
   ]
  },
  {
   "cell_type": "code",
   "execution_count": null,
   "metadata": {},
   "outputs": [],
   "source": [
    "%%time\n",
    "# Choix de la taille du nouveau dataset \n",
    "distribution_of_samples = {0:50000, 1:50000}\n",
    "\n",
    "# Sous-Echantillonnage en utilisant la méthode NearMiss\n",
    "smote = NearMiss(sampling_strategy = distribution_of_samples)\n",
    "X_over_tr, y_over_tr = smote.fit_resample(X_under_tr, y_under_tr)"
   ]
  },
  {
   "cell_type": "code",
   "execution_count": null,
   "metadata": {},
   "outputs": [],
   "source": [
    "#On affiche le nouveau nombre de clients par classe\n",
    "Counter(y_over_tr)"
   ]
  },
  {
   "cell_type": "code",
   "execution_count": null,
   "metadata": {},
   "outputs": [],
   "source": [
    "#On affiche la distribution de nos données cible (on observe un déséquilibre)\n",
    "taux_0 = Counter(y_over_tr)[0]*100/len(y_over_tr)\n",
    "taux_1 = Counter(y_over_tr)[1]*100/len(y_over_tr)\n",
    "\n",
    "plt.bar([\"Taux de 0 (négatif) : \" + str(round(taux_0,1)) + \"%\"\n",
    "         ,\"Taux de 1 (positif) : \" + str(round(taux_1,1))+ \"%\"]\n",
    "        , [taux_0,taux_1])"
   ]
  },
  {
   "cell_type": "code",
   "execution_count": null,
   "metadata": {},
   "outputs": [],
   "source": [
    "#On effectue un train test pour entrainer et tester notre modèle\n",
    "X_tr, X_val, y_tr, y_val = train_test_split(X_over_tr, y_over_tr, stratify=y_over_tr\n",
    "                                                                , train_size=0.8, random_state=666)"
   ]
  },
  {
   "cell_type": "markdown",
   "metadata": {},
   "source": [
    "## 4- XGBoost avec SMOTE"
   ]
  },
  {
   "cell_type": "code",
   "execution_count": null,
   "metadata": {},
   "outputs": [],
   "source": [
    "%%time\n",
    "\n",
    "cls = xgb.XGBClassifier(use_label_encoder=False)\n",
    "#                         , scale_pos_weight=Counter(y_over_tr)[0]/Counter(y_over_tr)[1])\n",
    "# cls.set_params()\n",
    "# scaler = StandardScaler()\n",
    "# X_tr_scale = scaler.fit_transform(X_over_tr)\n",
    "cls.fit(X_tr, y_tr)"
   ]
  },
  {
   "cell_type": "code",
   "execution_count": null,
   "metadata": {},
   "outputs": [],
   "source": [
    "# from sklearn.model_selection import RandomizedSearchCV\n",
    "# from sklearn.model_selection import StratifiedKFold"
   ]
  },
  {
   "cell_type": "code",
   "execution_count": null,
   "metadata": {},
   "outputs": [],
   "source": [
    "# params = {'n_estimators': [100, 150]}"
   ]
  },
  {
   "cell_type": "code",
   "execution_count": null,
   "metadata": {},
   "outputs": [],
   "source": [
    "# %%time\n",
    "# folds = 3\n",
    "# param_comb = 2\n",
    "\n",
    "# skf = StratifiedKFold(n_splits=folds, shuffle = True, random_state = 1001)\n",
    "\n",
    "# random_search = RandomizedSearchCV(cls, param_distributions=params, n_iter=param_comb\n",
    "#                                    , scoring='f1', n_jobs=4, cv=skf.split(X_over_tr, y_over_tr)\n",
    "#                                    , verbose=3, random_state=1001)\n",
    "\n",
    "# random_search.fit(X_over_tr, y_over_tr)"
   ]
  },
  {
   "cell_type": "code",
   "execution_count": null,
   "metadata": {},
   "outputs": [],
   "source": [
    "# random_search.best_estimator_"
   ]
  },
  {
   "cell_type": "code",
   "execution_count": null,
   "metadata": {},
   "outputs": [],
   "source": [
    "#On affiche l'accuracy des données test\n",
    "y_pred_xgb = cls.predict_proba(X_val)[:, 1]\n",
    "[fpr_xgb, tpr_xgb, thr_xgb] = roc_curve(y_val, y_pred_xgb)\n",
    "\n",
    "auc_xgb = auc(fpr_xgb, tpr_xgb)\n",
    "print(\"Accuracy XGBoost : \", auc_xgb)"
   ]
  },
  {
   "cell_type": "code",
   "execution_count": null,
   "metadata": {},
   "outputs": [],
   "source": [
    "#On affiche l'accuracy des données train (surapprentissage)\n",
    "y_pred_xgb_tr = cls.predict_proba(X_tr)[:, 1]\n",
    "[fpr_xgb_tr, tpr_xgb_tr, thr_xgb_tr] = roc_curve(y_tr, y_pred_xgb_tr)\n",
    "\n",
    "auc_xgb_tr = auc(fpr_xgb_tr, tpr_xgb_tr)\n",
    "print(\"Accuracy XGBoost Xtrain : \", auc_xgb_tr)"
   ]
  },
  {
   "cell_type": "code",
   "execution_count": null,
   "metadata": {},
   "outputs": [],
   "source": [
    "#On affiche notre courbe ROC\n",
    "plt.plot(fpr_xgb, tpr_xgb, color='coral', lw=2)\n",
    "plt.xlim([0.0, 1.0])\n",
    "plt.ylim([0.0, 1.05])\n",
    "plt.xlabel('1 - specificite', fontsize=14)\n",
    "plt.ylabel('Sensibilite', fontsize=14)"
   ]
  },
  {
   "cell_type": "markdown",
   "metadata": {},
   "source": [
    "## 5- Matrice de confusion et indicateurs clés"
   ]
  },
  {
   "cell_type": "code",
   "execution_count": null,
   "metadata": {},
   "outputs": [],
   "source": [
    "#On compte les valeurs réelles\n",
    "print(\"Valeurs réelles : \", Counter(y_val))\n",
    "\n",
    "#On fixe 0.5 comme seuil par défaut\n",
    "seuil = 0.5\n",
    "y_pred_xgb_0_1 = [0 if x < seuil else 1 for x in y_pred_xgb]\n",
    "print(\"Valeurs prédites : \", Counter(y_pred_xgb_0_1))"
   ]
  },
  {
   "cell_type": "code",
   "execution_count": null,
   "metadata": {},
   "outputs": [],
   "source": [
    "#On affiche nos fonctions coût\n",
    "print(\"Accuracy : \", round(accuracy_score(y_val, y_pred_xgb_0_1), 2))\n",
    "print(\"Precision : \",round(precision_score(y_val, y_pred_xgb_0_1), 2))\n",
    "print(\"Sensibility : \", round(recall_score(y_val, y_pred_xgb_0_1), 2))\n",
    "print(\"F1 Score : \",round(f1_score(y_val, y_pred_xgb_0_1), 2))\n",
    "print(\"MCC : \",round(matthews_corrcoef(y_val, y_pred_xgb_0_1), 2))\n"
   ]
  },
  {
   "cell_type": "code",
   "execution_count": null,
   "metadata": {},
   "outputs": [],
   "source": [
    "#On calcule l'ensemble de nos fonctions coût pour différents seuil allant de 0 à 1\n",
    "precision_tab = []\n",
    "sensibility_tab = []\n",
    "f1_score_tab = []\n",
    "matthews_corrcoef_tab = []\n",
    "\n",
    "rang = np.linspace(0.01,1,5)\n",
    "\n",
    "for seuil in rang:\n",
    "    y_pred_xgb_0_1 = []\n",
    "    y_pred_xgb_0_1 = [0 if x < seuil else 1 for x in y_pred_xgb]\n",
    "    precision_tab.append(round(precision_score(y_val, y_pred_xgb_0_1), 2))\n",
    "    sensibility_tab.append(round(recall_score(y_val, y_pred_xgb_0_1), 2))\n",
    "    f1_score_tab.append(round(f1_score(y_val, y_pred_xgb_0_1), 2))\n",
    "    matthews_corrcoef_tab.append(round(matthews_corrcoef(y_val, y_pred_xgb_0_1), 2))"
   ]
  },
  {
   "cell_type": "code",
   "execution_count": null,
   "metadata": {},
   "outputs": [],
   "source": [
    "#On affiche les valeurs de nos fonctions coût pour différents seuil allant de 0 à 1\n",
    "fig = plt.figure(figsize=(15,5))\n",
    "\n",
    "ax = fig.add_subplot(1,2,1)\n",
    "plt.plot(rang, precision_tab, color='purple', label='Precision')\n",
    "plt.plot(rang, sensibility_tab, color='green', label='Sensibility ')\n",
    "ax.legend()\n",
    "\n",
    "ax = fig.add_subplot(1,2,2)\n",
    "plt.plot(rang, f1_score_tab, color='blue', label='F1 Score')\n",
    "plt.plot(rang, matthews_corrcoef_tab, color='orange', label='MCC')\n",
    "ax.legend()"
   ]
  },
  {
   "cell_type": "code",
   "execution_count": null,
   "metadata": {},
   "outputs": [],
   "source": [
    "#On compte les valeurs réelles\n",
    "print(\"Valeurs réelles : \", Counter(y_val))\n",
    "\n",
    "#On fixe le seuil à 0.3 (le plus intéressant pour notre problème)\n",
    "seuil = 0.8\n",
    "y_pred_xgb_0_1 = [0 if x < seuil else 1 for x in y_pred_xgb]\n",
    "print(\"Valeurs prédites : \", Counter(y_pred_xgb_0_1))"
   ]
  },
  {
   "cell_type": "code",
   "execution_count": null,
   "metadata": {},
   "outputs": [],
   "source": [
    "print(\"Accuracy : \", round(accuracy_score(y_val, y_pred_xgb_0_1), 2))\n",
    "print(\"Precision : \",round(precision_score(y_val, y_pred_xgb_0_1), 2))\n",
    "print(\"Sensibility : \", round(recall_score(y_val, y_pred_xgb_0_1), 2))\n",
    "print(\"F1 Score : \",round(f1_score(y_val, y_pred_xgb_0_1), 2))\n",
    "print(\"MCC : \",round(matthews_corrcoef(y_val, y_pred_xgb_0_1), 2))"
   ]
  },
  {
   "cell_type": "code",
   "execution_count": null,
   "metadata": {},
   "outputs": [],
   "source": [
    "pd.crosstab(y_val, np.array(y_pred_xgb_0_1), rownames=['True']\n",
    "            , colnames=['Predicted'], margins=True)"
   ]
  },
  {
   "cell_type": "code",
   "execution_count": null,
   "metadata": {
    "scrolled": true
   },
   "outputs": [],
   "source": [
    "pd.crosstab(y_val, np.array(y_pred_xgb_0_1), rownames=['True']\n",
    "            , colnames=['Predicted'], margins=True).apply(lambda r: round(r/y_val.count()*100,1), axis=1)"
   ]
  },
  {
   "cell_type": "markdown",
   "metadata": {},
   "source": [
    "- La précision est la probabilité que le test soit positif si la client est un bon client\n",
    "- La sensibilité est la probabilité que le test soit positif si la client est un mauvais client"
   ]
  },
  {
   "cell_type": "code",
   "execution_count": null,
   "metadata": {},
   "outputs": [],
   "source": [
    "#On sauvegarde notre modèle au format pickle\n",
    "with open(\"best_model_XGBoost_pickle.pkl\", 'wb') as file:  \n",
    "    pickle.dump(cls, file)"
   ]
  },
  {
   "cell_type": "markdown",
   "metadata": {},
   "source": [
    "## 6- Comprehension du modèle"
   ]
  },
  {
   "cell_type": "code",
   "execution_count": null,
   "metadata": {},
   "outputs": [],
   "source": [
    "#On importe le modèle shap pour l'interprétabilité de notre modèle\n",
    "shap.initjs()\n",
    "\n",
    "explainer = shap.TreeExplainer(cls)\n",
    "shap_values = explainer.shap_values(X_over_tr)"
   ]
  },
  {
   "cell_type": "code",
   "execution_count": null,
   "metadata": {},
   "outputs": [],
   "source": [
    "#On trace l'importance des variables de notre modèle\n",
    "fig = shap.summary_plot(shap_values, X_over_tr, plot_type=\"bar\")"
   ]
  },
  {
   "cell_type": "code",
   "execution_count": null,
   "metadata": {},
   "outputs": [],
   "source": [
    "#On affiche l'ensemble des clients en fonction de l'importance de nos variables\n",
    "shap.summary_plot(shap_values, X_over_tr)"
   ]
  },
  {
   "cell_type": "code",
   "execution_count": null,
   "metadata": {},
   "outputs": [],
   "source": [
    "#On trace le waterfall d'un client eligible\n",
    "shap.waterfall_plot(shap.Explanation(values=shap_values[2,:],\n",
    "                                     base_values=explainer.expected_value,\n",
    "                                     data=X_over_tr.iloc[2,:],\n",
    "                                     feature_names=X_over_tr.columns.tolist()),max_display=10)"
   ]
  },
  {
   "cell_type": "markdown",
   "metadata": {},
   "source": [
    "## 7- Création du dataframe pour le dashboard interactif"
   ]
  },
  {
   "cell_type": "code",
   "execution_count": null,
   "metadata": {},
   "outputs": [],
   "source": [
    "#On prépare le dataframe n'ayant pas de target\n",
    "test = df[df[\"TARGET\"].isnull()]\n",
    "X_test = test.drop([\"TARGET\"], axis = 1)\n",
    "\n",
    "del df"
   ]
  },
  {
   "cell_type": "code",
   "execution_count": null,
   "metadata": {},
   "outputs": [],
   "source": [
    "#On supprime les variables ayant plus de 10% de valeurs nulles\n",
    "X_test.drop(columns=X_train_na_60, inplace=True)"
   ]
  },
  {
   "cell_type": "code",
   "execution_count": null,
   "metadata": {},
   "outputs": [],
   "source": [
    "%%time\n",
    "\n",
    "#On remplace les valeurs nan restantes par 0\n",
    "X_test.replace({np.nan : 0}, inplace= True)"
   ]
  },
  {
   "cell_type": "code",
   "execution_count": null,
   "metadata": {},
   "outputs": [],
   "source": [
    "%%time\n",
    "\n",
    "#On remplace les valeurs inf par la valeur max et les valeurs -inf par la valeur min\n",
    "for c in X_test.columns:\n",
    "    if X_test[c].isin([-np.inf, np.inf]).any():\n",
    "        print(c)\n",
    "        max_value = max(list(X_test[~(X_test[c].isin([-np.inf, np.inf, np.nan]))][c]))\n",
    "        min_value = min(list(X_test[~(X_test[c].isin([-np.inf, np.inf, np.nan]))][c]))\n",
    "    \n",
    "        X_test[c].replace({np.inf : max_value, -np.inf : min_value}, inplace= True)"
   ]
  },
  {
   "cell_type": "code",
   "execution_count": null,
   "metadata": {},
   "outputs": [],
   "source": [
    "#On recupère le score et la valeur binaire definissant si le client est eligible ou non\n",
    "target = cls.predict(X_test.iloc[:,1:])\n",
    "score = [round(i,2) for i in cls.predict_proba(X_test.iloc[:,1:])[:, 1]]"
   ]
  },
  {
   "cell_type": "code",
   "execution_count": null,
   "metadata": {},
   "outputs": [],
   "source": [
    "#On affiche le nombre de clients par classe\n",
    "Counter(target)"
   ]
  },
  {
   "cell_type": "code",
   "execution_count": null,
   "metadata": {},
   "outputs": [],
   "source": [
    "#On ajoute la target et le score à notre dataframe\n",
    "X_test['SCORE'] = score\n",
    "X_test['TARGET'] = target\n",
    "X_test.reset_index(drop=True, inplace=True)"
   ]
  },
  {
   "cell_type": "code",
   "execution_count": null,
   "metadata": {},
   "outputs": [],
   "source": [
    "#On sauvegarde le dataframe au format pickle\n",
    "with open(\"data_customers.pkl\", 'wb') as file:  \n",
    "    pickle.dump(X_test, file)"
   ]
  },
  {
   "cell_type": "code",
   "execution_count": null,
   "metadata": {},
   "outputs": [],
   "source": []
  }
 ],
 "metadata": {
  "kernelspec": {
   "display_name": "Python 3",
   "language": "python",
   "name": "python3"
  },
  "language_info": {
   "codemirror_mode": {
    "name": "ipython",
    "version": 3
   },
   "file_extension": ".py",
   "mimetype": "text/x-python",
   "name": "python",
   "nbconvert_exporter": "python",
   "pygments_lexer": "ipython3",
   "version": "3.7.6"
  }
 },
 "nbformat": 4,
 "nbformat_minor": 4
}
