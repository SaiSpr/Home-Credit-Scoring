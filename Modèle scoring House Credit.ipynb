{
 "cells": [
  {
   "cell_type": "code",
   "execution_count": 1,
   "metadata": {},
   "outputs": [],
   "source": [
    "import pandas as pd\n",
    "import numpy as np\n",
    "import re\n",
    "from collections import Counter\n",
    "\n",
    "import matplotlib.pyplot as plt\n",
    "import seaborn as sns\n",
    "\n",
    "from sklearn.preprocessing import StandardScaler\n",
    "from sklearn.model_selection import train_test_split\n",
    "from sklearn.metrics import roc_curve, auc, confusion_matrix\n",
    "import xgboost as xgb"
   ]
  },
  {
   "cell_type": "markdown",
   "metadata": {},
   "source": [
    "## 1- IMPORT DATA"
   ]
  },
  {
   "cell_type": "code",
   "execution_count": 2,
   "metadata": {},
   "outputs": [],
   "source": [
    "#On recupère le dataframe mergé\n",
    "df = pd.read_feather(\"kernel Kaggle préparation données/data_feather\")"
   ]
  },
  {
   "cell_type": "markdown",
   "metadata": {},
   "source": [
    "## 2- TRAIN TEST SPLIT"
   ]
  },
  {
   "cell_type": "code",
   "execution_count": 3,
   "metadata": {},
   "outputs": [],
   "source": [
    "# On recupère les données avec une target et les données sans\n",
    "train = df[df[\"TARGET\"].notnull()]\n",
    "test = df[df[\"TARGET\"].isnull()]\n",
    "\n",
    "X_train = train.drop([\"TARGET\", \"SK_ID_CURR\"], axis = 1)\n",
    "X_test = test.drop([\"TARGET\", \"SK_ID_CURR\"], axis = 1)\n",
    "y_train = train[\"TARGET\"]\n",
    "\n",
    "del df"
   ]
  },
  {
   "cell_type": "code",
   "execution_count": 4,
   "metadata": {},
   "outputs": [],
   "source": [
    "#On recupère le nombre de valeurs nulles\n",
    "X_train_na = X_train.isna().sum()\n",
    "\n",
    "#On recupère les variables avec plus de 60% de valeur nulles\n",
    "X_train_na_60 = list(X_train_na[(X_train_na*100/X_train.shape[0]) > 60].index)\n",
    "\n",
    "#On supprime les variables ayant plus de 60% de valeurs nulles\n",
    "X_train.drop(columns=X_train_na_60, inplace=True)"
   ]
  },
  {
   "cell_type": "code",
   "execution_count": 5,
   "metadata": {},
   "outputs": [
    {
     "name": "stdout",
     "output_type": "stream",
     "text": [
      "Wall time: 2.21 s\n"
     ]
    }
   ],
   "source": [
    "%%time\n",
    "\n",
    "#On remplace les valeurs nan restantes par 0\n",
    "X_train.replace({np.nan : 0}, inplace= True)"
   ]
  },
  {
   "cell_type": "code",
   "execution_count": 6,
   "metadata": {
    "scrolled": true
   },
   "outputs": [
    {
     "name": "stdout",
     "output_type": "stream",
     "text": [
      "BUREAU_DAYS_CREDIT_ENDDATE_SUM\n",
      "ACTIVE_DAYS_CREDIT_ENDDATE_SUM\n",
      "CLOSED_DAYS_CREDIT_ENDDATE_SUM\n",
      "INS_DAYS_INSTALMENT_SUM\n",
      "INS_DAYS_ENTRY_PAYMENT_SUM\n",
      "INS_PAYMENT_PERC_MAX\n",
      "INS_PAYMENT_PERC_MEAN\n",
      "INS_PAYMENT_PERC_SUM\n",
      "INS_PAYMENT_PERC_MEDIAN\n",
      "PREV_APP_CREDIT_PERC_MAX\n",
      "PREV_APP_CREDIT_PERC_MEAN\n",
      "Wall time: 27.3 s\n"
     ]
    }
   ],
   "source": [
    "%%time\n",
    "\n",
    "#On remplace les valeurs inf par la valeur max et les valeurs -inf par la valeur min\n",
    "for c in X_train.columns:\n",
    "    if X_train[c].isin([-np.inf, np.inf]).any():\n",
    "        print(c)\n",
    "        max_value = max(list(X_train[~(X_train[c].isin([-np.inf, np.inf, np.nan]))][c]))\n",
    "        min_value = min(list(X_train[~(X_train[c].isin([-np.inf, np.inf, np.nan]))][c]))\n",
    "    \n",
    "        X_train[c].replace({np.inf : max_value, -np.inf : min_value}, inplace= True)"
   ]
  },
  {
   "cell_type": "code",
   "execution_count": 7,
   "metadata": {},
   "outputs": [],
   "source": [
    "#On effectue un train test pour entrainer et tester notre modèle\n",
    "X_tr, X_val, y_tr, y_val = train_test_split(X_train, y_train, train_size=0.8, random_state=666)"
   ]
  },
  {
   "cell_type": "markdown",
   "metadata": {},
   "source": [
    "## 3- Gestion du déséquilibre des données"
   ]
  },
  {
   "cell_type": "code",
   "execution_count": 8,
   "metadata": {},
   "outputs": [
    {
     "data": {
      "text/plain": [
       "<BarContainer object of 2 artists>"
      ]
     },
     "execution_count": 8,
     "metadata": {},
     "output_type": "execute_result"
    },
    {
     "data": {
      "image/png": "[encoded data removed]",
      "text/plain": [
       "<Figure size 432x288 with 1 Axes>"
      ]
     },
     "metadata": {
      "needs_background": "light"
     },
     "output_type": "display_data"
    }
   ],
   "source": [
    "#On affiche la distribution de nos données cible (on observe un déséquilibre)\n",
    "taux_0 = Counter(y_val)[0]*100/len(y_val)\n",
    "taux_1 = Counter(y_val)[1]*100/len(y_val)\n",
    "\n",
    "plt.bar([\"Taux de 0 (négatif) : \" + str(round(taux_0,1)) + \"%\"\n",
    "         ,\"Taux de 1 (positif) : \" + str(round(taux_1,1))+ \"%\"]\n",
    "        , [taux_0,taux_1])"
   ]
  },
  {
   "cell_type": "markdown",
   "metadata": {},
   "source": [
    "## 4a- XGBoost (mise en place du modèle)"
   ]
  },
  {
   "cell_type": "code",
   "execution_count": 9,
   "metadata": {},
   "outputs": [],
   "source": [
    "# XGB parameters found by Bayesian optimization\n",
    "# params = {'n_estimators': 496,\n",
    "#           'max_depth': 4, \n",
    "#           'learning_rate': 0.052819174028842786, \n",
    "#           'subsample': 0.8699406829181138,\n",
    "#           'colsample_bytree': 0.6127121392595005,\n",
    "#           'random_state': 666}\n",
    "\n",
    "params = {'n_estimators': 400,\n",
    "          'max_depth': 5,\n",
    "          'use_label_encoder': False}"
   ]
  },
  {
   "cell_type": "code",
   "execution_count": 10,
   "metadata": {},
   "outputs": [
    {
     "name": "stderr",
     "output_type": "stream",
     "text": [
      "C:\\Users\\yacin\\anaconda3\\lib\\site-packages\\xgboost\\sklearn.py:1146: UserWarning: The use of label encoder in XGBClassifier is deprecated and will be removed in a future release. To remove this warning, do the following: 1) Pass option use_label_encoder=False when constructing XGBClassifier object; and 2) Encode your labels (y) as integers starting with 0, i.e. 0, 1, 2, ..., [num_class - 1].\n",
      "  warnings.warn(label_encoder_deprecation_msg, UserWarning)\n"
     ]
    },
    {
     "name": "stdout",
     "output_type": "stream",
     "text": [
      "[05:19:43] WARNING: C:/Users/Administrator/workspace/xgboost-win64_release_1.4.0/src/learner.cc:1095: Starting in XGBoost 1.3.0, the default evaluation metric used with the objective 'binary:logistic' was changed from 'error' to 'logloss'. Explicitly set eval_metric if you'd like to restore the old behavior.\n",
      "Wall time: 7min 18s\n"
     ]
    },
    {
     "data": {
      "text/plain": [
       "XGBClassifier(base_score=0.5, booster='gbtree', colsample_bylevel=1,\n",
       "              colsample_bynode=1, colsample_bytree=1, gamma=0, gpu_id=-1,\n",
       "              importance_type='gain', interaction_constraints='',\n",
       "              learning_rate=0.300000012, max_delta_step=0, max_depth=6,\n",
       "              min_child_weight=1, missing=nan, monotone_constraints='()',\n",
       "              n_estimators=100, n_jobs=8, num_parallel_tree=1, random_state=0,\n",
       "              reg_alpha=0, reg_lambda=1, scale_pos_weight=1, subsample=1,\n",
       "              tree_method='exact', validate_parameters=1, verbosity=None)"
      ]
     },
     "execution_count": 10,
     "metadata": {},
     "output_type": "execute_result"
    }
   ],
   "source": [
    "%%time\n",
    "\n",
    "cls = xgb.XGBClassifier()\n",
    "# scaler = StandardScaler()\n",
    "# X_tr_scale = scaler.fit_transform(X_tr)\n",
    "cls.fit(X_tr, y_tr)"
   ]
  },
  {
   "cell_type": "markdown",
   "metadata": {},
   "source": [
    "## 4b- Performances du modèle XGBoost"
   ]
  },
  {
   "cell_type": "code",
   "execution_count": 11,
   "metadata": {},
   "outputs": [
    {
     "name": "stderr",
     "output_type": "stream",
     "text": [
      "C:\\Users\\yacin\\anaconda3\\lib\\site-packages\\xgboost\\data.py:114: UserWarning: Use subset (sliced data) of np.ndarray is not recommended because it will generate extra copies and increase memory consumption\n",
      "  \"because it will generate extra copies and increase \" +\n"
     ]
    }
   ],
   "source": [
    " y_pred_xgb = cls.predict_proba(X_val)[:, 1]\n",
    "[fpr_xgb, tpr_xgb, thr_xgb] = roc_curve(y_val, y_pred_xgb)"
   ]
  },
  {
   "cell_type": "code",
   "execution_count": 12,
   "metadata": {},
   "outputs": [
    {
     "name": "stdout",
     "output_type": "stream",
     "text": [
      "Accuracy XGBoost :  0.7761077296614688\n"
     ]
    }
   ],
   "source": [
    "auc_xgb = auc(fpr_xgb, tpr_xgb)\n",
    "print(\"Accuracy XGBoost : \", auc_xgb)"
   ]
  },
  {
   "cell_type": "code",
   "execution_count": 13,
   "metadata": {},
   "outputs": [
    {
     "data": {
      "text/plain": [
       "Text(0, 0.5, 'Sensibilite')"
      ]
     },
     "execution_count": 13,
     "metadata": {},
     "output_type": "execute_result"
    },
    {
     "data": {
      "image/png": "[encoded data removed]",
      "text/plain": [
       "<Figure size 432x288 with 1 Axes>"
      ]
     },
     "metadata": {
      "needs_background": "light"
     },
     "output_type": "display_data"
    }
   ],
   "source": [
    "plt.plot(fpr_xgb, tpr_xgb, color='coral', lw=2)\n",
    "plt.xlim([0.0, 1.0])\n",
    "plt.ylim([0.0, 1.05])\n",
    "plt.xlabel('1 - specificite', fontsize=14)\n",
    "plt.ylabel('Sensibilite', fontsize=14)"
   ]
  },
  {
   "cell_type": "code",
   "execution_count": 14,
   "metadata": {},
   "outputs": [
    {
     "name": "stdout",
     "output_type": "stream",
     "text": [
      "Valeurs réelles :  Counter({0.0: 56568, 1.0: 4933})\n",
      "Valeurs prédites :  Counter({0: 60836, 1: 665})\n"
     ]
    }
   ],
   "source": [
    "#On compte les valeurs réelles\n",
    "print(\"Valeurs réelles : \", Counter(y_val))\n",
    "\n",
    "#On fixe un seuil pour les valeurs prédites (0.05 interessant)\n",
    "seuil = 0.5\n",
    "y_pred_xgb_0_1 = [0 if x < seuil else 1 for x in y_pred_xgb]\n",
    "print(\"Valeurs prédites : \", Counter(y_pred_xgb_0_1))"
   ]
  },
  {
   "cell_type": "code",
   "execution_count": 15,
   "metadata": {
    "scrolled": true
   },
   "outputs": [
    {
     "data": {
      "text/html": [
       "<div>\n",
       "<style scoped>\n",
       "    .dataframe tbody tr th:only-of-type {\n",
       "        vertical-align: middle;\n",
       "    }\n",
       "\n",
       "    .dataframe tbody tr th {\n",
       "        vertical-align: top;\n",
       "    }\n",
       "\n",
       "    .dataframe thead th {\n",
       "        text-align: right;\n",
       "    }\n",
       "</style>\n",
       "<table border=\"1\" class=\"dataframe\">\n",
       "  <thead>\n",
       "    <tr style=\"text-align: right;\">\n",
       "      <th>Predicted</th>\n",
       "      <th>0</th>\n",
       "      <th>1</th>\n",
       "      <th>All</th>\n",
       "    </tr>\n",
       "    <tr>\n",
       "      <th>True</th>\n",
       "      <th></th>\n",
       "      <th></th>\n",
       "      <th></th>\n",
       "    </tr>\n",
       "  </thead>\n",
       "  <tbody>\n",
       "    <tr>\n",
       "      <th>0.0</th>\n",
       "      <td>56205</td>\n",
       "      <td>363</td>\n",
       "      <td>56568</td>\n",
       "    </tr>\n",
       "    <tr>\n",
       "      <th>1.0</th>\n",
       "      <td>4631</td>\n",
       "      <td>302</td>\n",
       "      <td>4933</td>\n",
       "    </tr>\n",
       "    <tr>\n",
       "      <th>All</th>\n",
       "      <td>60836</td>\n",
       "      <td>665</td>\n",
       "      <td>61501</td>\n",
       "    </tr>\n",
       "  </tbody>\n",
       "</table>\n",
       "</div>"
      ],
      "text/plain": [
       "Predicted      0    1    All\n",
       "True                        \n",
       "0.0        56205  363  56568\n",
       "1.0         4631  302   4933\n",
       "All        60836  665  61501"
      ]
     },
     "execution_count": 15,
     "metadata": {},
     "output_type": "execute_result"
    }
   ],
   "source": [
    "pd.crosstab(y_val, np.array(y_pred_xgb_0_1), rownames=['True'], colnames=['Predicted'], margins=True)"
   ]
  },
  {
   "cell_type": "markdown",
   "metadata": {},
   "source": [
    "- La précision est la probabilité que le test soit positif si la client est un bon client\n",
    "- La sensibilité est la probabilité que le test soit positif si la client est un mauvais client"
   ]
  },
  {
   "cell_type": "code",
   "execution_count": 16,
   "metadata": {},
   "outputs": [
    {
     "name": "stdout",
     "output_type": "stream",
     "text": [
      "Accuracy :  0.92\n",
      "Precision :  0.45\n",
      "Sensibility :  0.06\n",
      "F1 Score :  0.11\n",
      "MCC :  0.14\n"
     ]
    }
   ],
   "source": [
    "from sklearn.metrics import accuracy_score, precision_score, recall_score, f1_score, matthews_corrcoef\n",
    "\n",
    "print(\"Accuracy : \", round(accuracy_score(y_val, y_pred_xgb_0_1), 2))\n",
    "print(\"Precision : \",round(precision_score(y_val, y_pred_xgb_0_1), 2))\n",
    "print(\"Sensibility : \", round(recall_score(y_val, y_pred_xgb_0_1), 2))\n",
    "print(\"F1 Score : \",round(f1_score(y_val, y_pred_xgb_0_1), 2))\n",
    "print(\"MCC : \",round(matthews_corrcoef(y_val, y_pred_xgb_0_1), 2))\n"
   ]
  },
  {
   "cell_type": "code",
   "execution_count": 17,
   "metadata": {},
   "outputs": [
    {
     "name": "stdout",
     "output_type": "stream",
     "text": [
      "              precision    recall  f1-score   support\n",
      "\n",
      "         0.0       0.92      0.99      0.96     56568\n",
      "         1.0       0.45      0.06      0.11      4933\n",
      "\n",
      "    accuracy                           0.92     61501\n",
      "   macro avg       0.69      0.53      0.53     61501\n",
      "weighted avg       0.89      0.92      0.89     61501\n",
      "\n"
     ]
    }
   ],
   "source": [
    "from sklearn.metrics import classification_report\n",
    "\n",
    "print(classification_report(y_val, y_pred_xgb_0_1))"
   ]
  },
  {
   "cell_type": "markdown",
   "metadata": {},
   "source": [
    "## 5- SMOTE (équilibrage des données)"
   ]
  },
  {
   "cell_type": "code",
   "execution_count": 18,
   "metadata": {},
   "outputs": [
    {
     "data": {
      "text/plain": [
       "<BarContainer object of 2 artists>"
      ]
     },
     "execution_count": 18,
     "metadata": {},
     "output_type": "execute_result"
    },
    {
     "data": {
      "image/png": "[encoded data removed]",
      "text/plain": [
       "<Figure size 432x288 with 1 Axes>"
      ]
     },
     "metadata": {
      "needs_background": "light"
     },
     "output_type": "display_data"
    }
   ],
   "source": [
    "#On affiche la distribution de nos données cible (on observe un déséquilibre)\n",
    "taux_0 = Counter(y_val)[0]*100/len(y_val)\n",
    "taux_1 = Counter(y_val)[1]*100/len(y_val)\n",
    "\n",
    "plt.bar([\"Taux de 0 (négatif) : \" + str(round(taux_0,1)) + \"%\"\n",
    "         ,\"Taux de 1 (positif) : \" + str(round(taux_1,1))+ \"%\"]\n",
    "        , [taux_0,taux_1])"
   ]
  },
  {
   "cell_type": "code",
   "execution_count": 19,
   "metadata": {},
   "outputs": [],
   "source": [
    "from imblearn.over_sampling import SMOTE"
   ]
  },
  {
   "cell_type": "code",
   "execution_count": 20,
   "metadata": {},
   "outputs": [
    {
     "name": "stdout",
     "output_type": "stream",
     "text": [
      "Wall time: 58.1 s\n"
     ]
    }
   ],
   "source": [
    "%%time\n",
    "# Choix de la taille du nouveau dataset \n",
    "distribution_of_samples = {0:282680, 1:200000}\n",
    "\n",
    "# Sur-Echantillonnage en utilisant la méthode SMOTE\n",
    "smote = SMOTE(sampling_strategy = distribution_of_samples, random_state = 0)\n",
    "X_over_sample, y_over_sample = smote.fit_resample(X_train, y_train)"
   ]
  },
  {
   "cell_type": "code",
   "execution_count": 21,
   "metadata": {},
   "outputs": [
    {
     "data": {
      "text/plain": [
       "Counter({1.0: 200000, 0.0: 282680})"
      ]
     },
     "execution_count": 21,
     "metadata": {},
     "output_type": "execute_result"
    }
   ],
   "source": [
    "Counter(y_over_sample)"
   ]
  },
  {
   "cell_type": "code",
   "execution_count": 22,
   "metadata": {},
   "outputs": [
    {
     "data": {
      "text/plain": [
       "<BarContainer object of 2 artists>"
      ]
     },
     "execution_count": 22,
     "metadata": {},
     "output_type": "execute_result"
    },
    {
     "data": {
      "image/png": "[encoded data removed]",
      "text/plain": [
       "<Figure size 432x288 with 1 Axes>"
      ]
     },
     "metadata": {
      "needs_background": "light"
     },
     "output_type": "display_data"
    }
   ],
   "source": [
    "#On affiche la distribution de nos données cible (on observe un déséquilibre)\n",
    "taux_0 = Counter(y_over_sample)[0]*100/len(y_over_sample)\n",
    "taux_1 = Counter(y_over_sample)[1]*100/len(y_over_sample)\n",
    "\n",
    "plt.bar([\"Taux de 0 (négatif) : \" + str(round(taux_0,1)) + \"%\"\n",
    "         ,\"Taux de 1 (positif) : \" + str(round(taux_1,1))+ \"%\"]\n",
    "        , [taux_0,taux_1])"
   ]
  },
  {
   "cell_type": "code",
   "execution_count": 23,
   "metadata": {},
   "outputs": [],
   "source": [
    "#On effectue un train test pour entrainer et tester notre modèle\n",
    "X_over_tr, X_over_val, y_over_tr, y_over_val = train_test_split(X_over_sample, y_over_sample, stratify=y_over_sample\n",
    "                                                                , train_size=0.8, random_state=666)"
   ]
  },
  {
   "cell_type": "code",
   "execution_count": 24,
   "metadata": {},
   "outputs": [],
   "source": [
    "params = {'n_estimators': 400,\n",
    "          'max_depth': 5,\n",
    "          'use_label_encoder': False}"
   ]
  },
  {
   "cell_type": "code",
   "execution_count": 25,
   "metadata": {},
   "outputs": [
    {
     "name": "stderr",
     "output_type": "stream",
     "text": [
      "C:\\Users\\yacin\\anaconda3\\lib\\site-packages\\xgboost\\sklearn.py:1146: UserWarning: The use of label encoder in XGBClassifier is deprecated and will be removed in a future release. To remove this warning, do the following: 1) Pass option use_label_encoder=False when constructing XGBClassifier object; and 2) Encode your labels (y) as integers starting with 0, i.e. 0, 1, 2, ..., [num_class - 1].\n",
      "  warnings.warn(label_encoder_deprecation_msg, UserWarning)\n"
     ]
    },
    {
     "name": "stdout",
     "output_type": "stream",
     "text": [
      "[05:28:20] WARNING: C:/Users/Administrator/workspace/xgboost-win64_release_1.4.0/src/learner.cc:1095: Starting in XGBoost 1.3.0, the default evaluation metric used with the objective 'binary:logistic' was changed from 'error' to 'logloss'. Explicitly set eval_metric if you'd like to restore the old behavior.\n",
      "Wall time: 15min 19s\n"
     ]
    },
    {
     "data": {
      "text/plain": [
       "XGBClassifier(base_score=0.5, booster='gbtree', colsample_bylevel=1,\n",
       "              colsample_bynode=1, colsample_bytree=1, gamma=0, gpu_id=-1,\n",
       "              importance_type='gain', interaction_constraints='',\n",
       "              learning_rate=0.300000012, max_delta_step=0, max_depth=6,\n",
       "              min_child_weight=1, missing=nan, monotone_constraints='()',\n",
       "              n_estimators=100, n_jobs=8, num_parallel_tree=1, random_state=0,\n",
       "              reg_alpha=0, reg_lambda=1, scale_pos_weight=1, subsample=1,\n",
       "              tree_method='exact', validate_parameters=1, verbosity=None)"
      ]
     },
     "execution_count": 25,
     "metadata": {},
     "output_type": "execute_result"
    }
   ],
   "source": [
    "%%time\n",
    "\n",
    "cls = xgb.XGBClassifier()\n",
    "# scaler = StandardScaler()\n",
    "# X_tr_scale = scaler.fit_transform(X_over_tr)\n",
    "cls.fit(X_over_tr, y_over_tr)"
   ]
  },
  {
   "cell_type": "code",
   "execution_count": 26,
   "metadata": {},
   "outputs": [
    {
     "name": "stderr",
     "output_type": "stream",
     "text": [
      "C:\\Users\\yacin\\anaconda3\\lib\\site-packages\\xgboost\\data.py:114: UserWarning: Use subset (sliced data) of np.ndarray is not recommended because it will generate extra copies and increase memory consumption\n",
      "  \"because it will generate extra copies and increase \" +\n"
     ]
    }
   ],
   "source": [
    " y_pred_xgb = cls.predict_proba(X_val)[:, 1]\n",
    "[fpr_xgb, tpr_xgb, thr_xgb] = roc_curve(y_val, y_pred_xgb)"
   ]
  },
  {
   "cell_type": "code",
   "execution_count": 27,
   "metadata": {},
   "outputs": [
    {
     "name": "stdout",
     "output_type": "stream",
     "text": [
      "Accuracy XGBoost :  0.8501986708873878\n"
     ]
    }
   ],
   "source": [
    "auc_xgb = auc(fpr_xgb, tpr_xgb)\n",
    "print(\"Accuracy XGBoost : \", auc_xgb)"
   ]
  },
  {
   "cell_type": "code",
   "execution_count": 28,
   "metadata": {},
   "outputs": [
    {
     "data": {
      "text/plain": [
       "Text(0, 0.5, 'Sensibilite')"
      ]
     },
     "execution_count": 28,
     "metadata": {},
     "output_type": "execute_result"
    },
    {
     "data": {
      "image/png": "[encoded data removed]",
      "text/plain": [
       "<Figure size 432x288 with 1 Axes>"
      ]
     },
     "metadata": {
      "needs_background": "light"
     },
     "output_type": "display_data"
    }
   ],
   "source": [
    "plt.plot(fpr_xgb, tpr_xgb, color='coral', lw=2)\n",
    "plt.xlim([0.0, 1.0])\n",
    "plt.ylim([0.0, 1.05])\n",
    "plt.xlabel('1 - specificite', fontsize=14)\n",
    "plt.ylabel('Sensibilite', fontsize=14)"
   ]
  },
  {
   "cell_type": "code",
   "execution_count": 29,
   "metadata": {},
   "outputs": [
    {
     "name": "stdout",
     "output_type": "stream",
     "text": [
      "Valeurs réelles :  Counter({0.0: 56568, 1.0: 4933})\n",
      "Valeurs prédites :  Counter({0: 58091, 1: 3410})\n"
     ]
    }
   ],
   "source": [
    "#On compte les valeurs réelles\n",
    "print(\"Valeurs réelles : \", Counter(y_val))\n",
    "\n",
    "#On fixe un seuil pour les valeurs prédites (0.05 interessant)\n",
    "seuil = 0.3\n",
    "y_pred_xgb_0_1 = [0 if x < seuil else 1 for x in y_pred_xgb]\n",
    "print(\"Valeurs prédites : \", Counter(y_pred_xgb_0_1))"
   ]
  },
  {
   "cell_type": "code",
   "execution_count": 30,
   "metadata": {
    "scrolled": true
   },
   "outputs": [
    {
     "data": {
      "text/html": [
       "<div>\n",
       "<style scoped>\n",
       "    .dataframe tbody tr th:only-of-type {\n",
       "        vertical-align: middle;\n",
       "    }\n",
       "\n",
       "    .dataframe tbody tr th {\n",
       "        vertical-align: top;\n",
       "    }\n",
       "\n",
       "    .dataframe thead th {\n",
       "        text-align: right;\n",
       "    }\n",
       "</style>\n",
       "<table border=\"1\" class=\"dataframe\">\n",
       "  <thead>\n",
       "    <tr style=\"text-align: right;\">\n",
       "      <th>Predicted</th>\n",
       "      <th>0</th>\n",
       "      <th>1</th>\n",
       "      <th>All</th>\n",
       "    </tr>\n",
       "    <tr>\n",
       "      <th>True</th>\n",
       "      <th></th>\n",
       "      <th></th>\n",
       "      <th></th>\n",
       "    </tr>\n",
       "  </thead>\n",
       "  <tbody>\n",
       "    <tr>\n",
       "      <th>0.0</th>\n",
       "      <td>54856</td>\n",
       "      <td>1712</td>\n",
       "      <td>56568</td>\n",
       "    </tr>\n",
       "    <tr>\n",
       "      <th>1.0</th>\n",
       "      <td>3235</td>\n",
       "      <td>1698</td>\n",
       "      <td>4933</td>\n",
       "    </tr>\n",
       "    <tr>\n",
       "      <th>All</th>\n",
       "      <td>58091</td>\n",
       "      <td>3410</td>\n",
       "      <td>61501</td>\n",
       "    </tr>\n",
       "  </tbody>\n",
       "</table>\n",
       "</div>"
      ],
      "text/plain": [
       "Predicted      0     1    All\n",
       "True                         \n",
       "0.0        54856  1712  56568\n",
       "1.0         3235  1698   4933\n",
       "All        58091  3410  61501"
      ]
     },
     "execution_count": 30,
     "metadata": {},
     "output_type": "execute_result"
    }
   ],
   "source": [
    "pd.crosstab(y_val, np.array(y_pred_xgb_0_1), rownames=['True'], colnames=['Predicted'], margins=True)"
   ]
  },
  {
   "cell_type": "markdown",
   "metadata": {},
   "source": [
    "- La précision est la probabilité que le test soit positif si la client est un bon client\n",
    "- La sensibilité est la probabilité que le test soit positif si la client est un mauvais client"
   ]
  },
  {
   "cell_type": "code",
   "execution_count": 31,
   "metadata": {},
   "outputs": [
    {
     "name": "stdout",
     "output_type": "stream",
     "text": [
      "Accuracy :  0.92\n",
      "Precision :  0.5\n",
      "Sensibility :  0.34\n",
      "F1 Score :  0.41\n",
      "MCC :  0.37\n"
     ]
    }
   ],
   "source": [
    "from sklearn.metrics import accuracy_score, precision_score, recall_score, f1_score, matthews_corrcoef\n",
    "\n",
    "print(\"Accuracy : \", round(accuracy_score(y_val, y_pred_xgb_0_1), 2))\n",
    "print(\"Precision : \",round(precision_score(y_val, y_pred_xgb_0_1), 2))\n",
    "print(\"Sensibility : \", round(recall_score(y_val, y_pred_xgb_0_1), 2))\n",
    "print(\"F1 Score : \",round(f1_score(y_val, y_pred_xgb_0_1), 2))\n",
    "print(\"MCC : \",round(matthews_corrcoef(y_val, y_pred_xgb_0_1), 2))\n"
   ]
  },
  {
   "cell_type": "markdown",
   "metadata": {},
   "source": [
    "## 6- Dashboard interactif"
   ]
  },
  {
   "cell_type": "code",
   "execution_count": 32,
   "metadata": {
    "scrolled": true
   },
   "outputs": [],
   "source": [
    "# !pip install streamlit\n",
    "# !streamlit hello"
   ]
  },
  {
   "cell_type": "code",
   "execution_count": 33,
   "metadata": {},
   "outputs": [],
   "source": [
    "import streamlit as st"
   ]
  },
  {
   "cell_type": "code",
   "execution_count": 34,
   "metadata": {},
   "outputs": [
    {
     "name": "stderr",
     "output_type": "stream",
     "text": [
      "2021-08-02 05:43:25.035 \n",
      "  \u001b[33m\u001b[1mWarning:\u001b[0m to view this Streamlit app on a browser, run it with the following\n",
      "  command:\n",
      "\n",
      "    streamlit run C:\\Users\\yacin\\anaconda3\\lib\\site-packages\\ipykernel_launcher.py [ARGUMENTS]\n"
     ]
    }
   ],
   "source": [
    "# adding title and text in the app\n",
    "st.title('Hello World')\n",
    "st.write(\"Welcome to your first streamlit application\")"
   ]
  },
  {
   "cell_type": "code",
   "execution_count": null,
   "metadata": {},
   "outputs": [],
   "source": [
    "!streamlit run app.py"
   ]
  },
  {
   "cell_type": "code",
   "execution_count": null,
   "metadata": {},
   "outputs": [],
   "source": []
  },
  {
   "cell_type": "code",
   "execution_count": null,
   "metadata": {},
   "outputs": [],
   "source": []
  },
  {
   "cell_type": "code",
   "execution_count": null,
   "metadata": {},
   "outputs": [],
   "source": []
  },
  {
   "cell_type": "code",
   "execution_count": null,
   "metadata": {},
   "outputs": [],
   "source": [
    "y_pred_tr = cls.predict_proba(X_tr)[:, 1]\n",
    "[fpr_tr, tpr_tr, thr_tr] = roc_curve(y_tr, y_pred_tr)"
   ]
  },
  {
   "cell_type": "code",
   "execution_count": null,
   "metadata": {},
   "outputs": [],
   "source": [
    "print(auc(fpr_tr, tpr_tr))"
   ]
  },
  {
   "cell_type": "code",
   "execution_count": null,
   "metadata": {},
   "outputs": [],
   "source": [
    "plt.plot(fpr_tr, tpr_tr, color='coral', lw=2)\n",
    "plt.xlim([0.0, 1.0])\n",
    "plt.ylim([0.0, 1.05])\n",
    "plt.xlabel('1 - specificite', fontsize=14)\n",
    "plt.ylabel('Sensibilite', fontsize=14)"
   ]
  },
  {
   "cell_type": "code",
   "execution_count": null,
   "metadata": {},
   "outputs": [],
   "source": [
    "#cd Projet\\ 6\\ -\\ Implémentez\\ un\\ modèle\\ de\\ scoring\\ \\(Home\\ Credit\\)"
   ]
  },
  {
   "cell_type": "code",
   "execution_count": null,
   "metadata": {},
   "outputs": [],
   "source": []
  }
 ],
 "metadata": {
  "kernelspec": {
   "display_name": "Python 3",
   "language": "python",
   "name": "python3"
  },
  "language_info": {
   "codemirror_mode": {
    "name": "ipython",
    "version": 3
   },
   "file_extension": ".py",
   "mimetype": "text/x-python",
   "name": "python",
   "nbconvert_exporter": "python",
   "pygments_lexer": "ipython3",
   "version": "3.7.6"
  }
 },
 "nbformat": 4,
 "nbformat_minor": 4
}
